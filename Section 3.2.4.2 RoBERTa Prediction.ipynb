{
 "cells": [
  {
   "cell_type": "code",
   "execution_count": 3,
   "metadata": {},
   "outputs": [],
   "source": [
    "import numpy as np\n",
    "import pandas as pd\n",
    "import matplotlib.pyplot as plt\n",
    "import re\n",
    "import os\n",
    "from matplotlib.pyplot import cm\n",
    "%matplotlib inline\n",
    "import seaborn as sns\n",
    "import warnings\n",
    "warnings.simplefilter(\"ignore\", DeprecationWarning)\n",
    "# Load the regular expression library and preparing the data for further analysis\n",
    "import re\n",
    "# Load models used for prediction\n",
    "from sklearn.model_selection import train_test_split\n",
    "from sklearn.feature_extraction.text import CountVectorizer\n",
    "from sklearn import metrics\n",
    "from sklearn.linear_model import LogisticRegression"
   ]
  },
  {
   "cell_type": "code",
   "execution_count": 4,
   "metadata": {},
   "outputs": [],
   "source": [
    "import nltk\n"
   ]
  },
  {
   "cell_type": "code",
   "execution_count": 11,
   "metadata": {},
   "outputs": [],
   "source": [
    "variables = pd.read_csv('sentence ordered var.csv')"
   ]
  },
  {
   "cell_type": "code",
   "execution_count": 12,
   "metadata": {},
   "outputs": [
    {
     "data": {
      "text/html": [
       "<div>\n",
       "<style scoped>\n",
       "    .dataframe tbody tr th:only-of-type {\n",
       "        vertical-align: middle;\n",
       "    }\n",
       "\n",
       "    .dataframe tbody tr th {\n",
       "        vertical-align: top;\n",
       "    }\n",
       "\n",
       "    .dataframe thead th {\n",
       "        text-align: right;\n",
       "    }\n",
       "</style>\n",
       "<table border=\"1\" class=\"dataframe\">\n",
       "  <thead>\n",
       "    <tr style=\"text-align: right;\">\n",
       "      <th></th>\n",
       "      <th>Unnamed: 0</th>\n",
       "      <th>ID</th>\n",
       "      <th>index</th>\n",
       "      <th>Gender</th>\n",
       "      <th>Search term</th>\n",
       "      <th>Current job role</th>\n",
       "      <th>Desired job title</th>\n",
       "      <th>Salary minimum</th>\n",
       "      <th>Sal_goup</th>\n",
       "    </tr>\n",
       "  </thead>\n",
       "  <tbody>\n",
       "    <tr>\n",
       "      <th>0</th>\n",
       "      <td>0</td>\n",
       "      <td>1001</td>\n",
       "      <td>0</td>\n",
       "      <td>1</td>\n",
       "      <td>aerospace</td>\n",
       "      <td>intern</td>\n",
       "      <td>propulsion test engineer</td>\n",
       "      <td>35000</td>\n",
       "      <td>2.0</td>\n",
       "    </tr>\n",
       "    <tr>\n",
       "      <th>1</th>\n",
       "      <td>1</td>\n",
       "      <td>1001</td>\n",
       "      <td>0</td>\n",
       "      <td>1</td>\n",
       "      <td>aerospace</td>\n",
       "      <td>intern</td>\n",
       "      <td>propulsion test engineer</td>\n",
       "      <td>35000</td>\n",
       "      <td>2.0</td>\n",
       "    </tr>\n",
       "    <tr>\n",
       "      <th>2</th>\n",
       "      <td>2</td>\n",
       "      <td>1001</td>\n",
       "      <td>0</td>\n",
       "      <td>1</td>\n",
       "      <td>aerospace</td>\n",
       "      <td>intern</td>\n",
       "      <td>propulsion test engineer</td>\n",
       "      <td>35000</td>\n",
       "      <td>2.0</td>\n",
       "    </tr>\n",
       "    <tr>\n",
       "      <th>3</th>\n",
       "      <td>3</td>\n",
       "      <td>1001</td>\n",
       "      <td>0</td>\n",
       "      <td>1</td>\n",
       "      <td>aerospace</td>\n",
       "      <td>intern</td>\n",
       "      <td>propulsion test engineer</td>\n",
       "      <td>35000</td>\n",
       "      <td>2.0</td>\n",
       "    </tr>\n",
       "    <tr>\n",
       "      <th>4</th>\n",
       "      <td>4</td>\n",
       "      <td>1001</td>\n",
       "      <td>0</td>\n",
       "      <td>1</td>\n",
       "      <td>aerospace</td>\n",
       "      <td>intern</td>\n",
       "      <td>propulsion test engineer</td>\n",
       "      <td>35000</td>\n",
       "      <td>2.0</td>\n",
       "    </tr>\n",
       "    <tr>\n",
       "      <th>...</th>\n",
       "      <td>...</td>\n",
       "      <td>...</td>\n",
       "      <td>...</td>\n",
       "      <td>...</td>\n",
       "      <td>...</td>\n",
       "      <td>...</td>\n",
       "      <td>...</td>\n",
       "      <td>...</td>\n",
       "      <td>...</td>\n",
       "    </tr>\n",
       "    <tr>\n",
       "      <th>23831</th>\n",
       "      <td>23831</td>\n",
       "      <td>1698</td>\n",
       "      <td>682</td>\n",
       "      <td>0</td>\n",
       "      <td>robotics</td>\n",
       "      <td>robotics software engineer</td>\n",
       "      <td>robotics software engineer</td>\n",
       "      <td>50000</td>\n",
       "      <td>4.0</td>\n",
       "    </tr>\n",
       "    <tr>\n",
       "      <th>23832</th>\n",
       "      <td>23832</td>\n",
       "      <td>1698</td>\n",
       "      <td>682</td>\n",
       "      <td>0</td>\n",
       "      <td>robotics</td>\n",
       "      <td>robotics software engineer</td>\n",
       "      <td>robotics software engineer</td>\n",
       "      <td>50000</td>\n",
       "      <td>4.0</td>\n",
       "    </tr>\n",
       "    <tr>\n",
       "      <th>23833</th>\n",
       "      <td>23833</td>\n",
       "      <td>1698</td>\n",
       "      <td>682</td>\n",
       "      <td>0</td>\n",
       "      <td>robotics</td>\n",
       "      <td>robotics software engineer</td>\n",
       "      <td>robotics software engineer</td>\n",
       "      <td>50000</td>\n",
       "      <td>4.0</td>\n",
       "    </tr>\n",
       "    <tr>\n",
       "      <th>23834</th>\n",
       "      <td>23834</td>\n",
       "      <td>1698</td>\n",
       "      <td>682</td>\n",
       "      <td>0</td>\n",
       "      <td>robotics</td>\n",
       "      <td>robotics software engineer</td>\n",
       "      <td>robotics software engineer</td>\n",
       "      <td>50000</td>\n",
       "      <td>4.0</td>\n",
       "    </tr>\n",
       "    <tr>\n",
       "      <th>23835</th>\n",
       "      <td>23835</td>\n",
       "      <td>1698</td>\n",
       "      <td>682</td>\n",
       "      <td>0</td>\n",
       "      <td>robotics</td>\n",
       "      <td>robotics software engineer</td>\n",
       "      <td>robotics software engineer</td>\n",
       "      <td>50000</td>\n",
       "      <td>4.0</td>\n",
       "    </tr>\n",
       "  </tbody>\n",
       "</table>\n",
       "<p>23836 rows × 9 columns</p>\n",
       "</div>"
      ],
      "text/plain": [
       "       Unnamed: 0    ID  index  Gender Search term  \\\n",
       "0               0  1001      0       1   aerospace   \n",
       "1               1  1001      0       1   aerospace   \n",
       "2               2  1001      0       1   aerospace   \n",
       "3               3  1001      0       1   aerospace   \n",
       "4               4  1001      0       1   aerospace   \n",
       "...           ...   ...    ...     ...         ...   \n",
       "23831       23831  1698    682       0    robotics   \n",
       "23832       23832  1698    682       0    robotics   \n",
       "23833       23833  1698    682       0    robotics   \n",
       "23834       23834  1698    682       0    robotics   \n",
       "23835       23835  1698    682       0    robotics   \n",
       "\n",
       "                 Current job role           Desired job title Salary minimum  \\\n",
       "0                          intern    propulsion test engineer          35000   \n",
       "1                          intern    propulsion test engineer          35000   \n",
       "2                          intern    propulsion test engineer          35000   \n",
       "3                          intern    propulsion test engineer          35000   \n",
       "4                          intern    propulsion test engineer          35000   \n",
       "...                           ...                         ...            ...   \n",
       "23831  robotics software engineer  robotics software engineer          50000   \n",
       "23832  robotics software engineer  robotics software engineer          50000   \n",
       "23833  robotics software engineer  robotics software engineer          50000   \n",
       "23834  robotics software engineer  robotics software engineer          50000   \n",
       "23835  robotics software engineer  robotics software engineer          50000   \n",
       "\n",
       "       Sal_goup  \n",
       "0           2.0  \n",
       "1           2.0  \n",
       "2           2.0  \n",
       "3           2.0  \n",
       "4           2.0  \n",
       "...         ...  \n",
       "23831       4.0  \n",
       "23832       4.0  \n",
       "23833       4.0  \n",
       "23834       4.0  \n",
       "23835       4.0  \n",
       "\n",
       "[23836 rows x 9 columns]"
      ]
     },
     "execution_count": 12,
     "metadata": {},
     "output_type": "execute_result"
    }
   ],
   "source": [
    "variables"
   ]
  },
  {
   "cell_type": "markdown",
   "metadata": {},
   "source": []
  },
  {
   "cell_type": "code",
   "execution_count": 6,
   "metadata": {},
   "outputs": [],
   "source": [
    "#importing metrics for future use\n",
    "from sklearn.metrics import accuracy_score\n",
    "from sklearn.metrics import precision_score, recall_score\n",
    "from sklearn.metrics import confusion_matrix\n",
    "from sklearn.metrics import classification_report\n",
    "from sklearn.metrics import mean_squared_error\n",
    "from sklearn.metrics import f1_score, roc_auc_score, roc_curve"
   ]
  },
  {
   "cell_type": "code",
   "execution_count": 7,
   "metadata": {},
   "outputs": [],
   "source": [
    "#to display the relevant criteria for each model\n",
    "def display_results(y_actual, y_predicted): \n",
    "    print(\"Accuracy = \" , accuracy_score(y_actual, y_predicted))\n",
    "    print(\"Precision = \" ,precision_score(y_actual, y_predicted))\n",
    "    print(\"Recall = \" ,recall_score(y_actual, y_predicted))\n",
    "    print(\"F1 Score = \" ,f1_score(y_actual, y_predicted))\n",
    "    print(\"MSE = \" ,mean_squared_error(y_actual, y_predicted))\n",
    "    print(\"Confusion Matrix \\n\" ,confusion_matrix(y_actual, y_predicted))\n",
    "\n",
    "# to generate auc-roc curve\n",
    "def generate_auc_roc_curve(model, X_test, Y_test):\n",
    "    y_pred_proba = model.predict_proba(X_test)[:, 1]\n",
    "    fpr, tpr, thresholds = roc_curve(Y_test,  y_pred_proba)\n",
    "    auc = roc_auc_score(Y_test, y_pred_proba)\n",
    "    plt.plot(fpr,tpr,label=\"AUC ROC Curve with Area Under the curve =\"+str(auc))\n",
    "    plt.legend(loc=4)\n",
    "    plt.show() #[6]"
   ]
  },
  {
   "cell_type": "code",
   "execution_count": 8,
   "metadata": {},
   "outputs": [],
   "source": [
    "#load RoBERTa matrix\n",
    "matrix = pd.read_csv('CLEAN ROBERTA MATRIX.csv').iloc[:, 1:]"
   ]
  },
  {
   "cell_type": "code",
   "execution_count": 9,
   "metadata": {},
   "outputs": [
    {
     "data": {
      "text/html": [
       "<div>\n",
       "<style scoped>\n",
       "    .dataframe tbody tr th:only-of-type {\n",
       "        vertical-align: middle;\n",
       "    }\n",
       "\n",
       "    .dataframe tbody tr th {\n",
       "        vertical-align: top;\n",
       "    }\n",
       "\n",
       "    .dataframe thead th {\n",
       "        text-align: right;\n",
       "    }\n",
       "</style>\n",
       "<table border=\"1\" class=\"dataframe\">\n",
       "  <thead>\n",
       "    <tr style=\"text-align: right;\">\n",
       "      <th></th>\n",
       "      <th>0</th>\n",
       "      <th>1</th>\n",
       "      <th>2</th>\n",
       "      <th>3</th>\n",
       "      <th>4</th>\n",
       "      <th>5</th>\n",
       "      <th>6</th>\n",
       "      <th>7</th>\n",
       "      <th>8</th>\n",
       "      <th>9</th>\n",
       "      <th>...</th>\n",
       "      <th>1014</th>\n",
       "      <th>1015</th>\n",
       "      <th>1016</th>\n",
       "      <th>1017</th>\n",
       "      <th>1018</th>\n",
       "      <th>1019</th>\n",
       "      <th>1020</th>\n",
       "      <th>1021</th>\n",
       "      <th>1022</th>\n",
       "      <th>1023</th>\n",
       "    </tr>\n",
       "  </thead>\n",
       "  <tbody>\n",
       "    <tr>\n",
       "      <th>0</th>\n",
       "      <td>-0.266187</td>\n",
       "      <td>-0.660178</td>\n",
       "      <td>-0.371666</td>\n",
       "      <td>-0.630971</td>\n",
       "      <td>-0.358803</td>\n",
       "      <td>-1.391885</td>\n",
       "      <td>0.160033</td>\n",
       "      <td>0.478119</td>\n",
       "      <td>0.212221</td>\n",
       "      <td>1.083352</td>\n",
       "      <td>...</td>\n",
       "      <td>0.428783</td>\n",
       "      <td>-1.124803</td>\n",
       "      <td>-0.256399</td>\n",
       "      <td>0.317885</td>\n",
       "      <td>-0.474741</td>\n",
       "      <td>0.325401</td>\n",
       "      <td>-0.264061</td>\n",
       "      <td>-0.664652</td>\n",
       "      <td>-1.497020</td>\n",
       "      <td>0.201376</td>\n",
       "    </tr>\n",
       "    <tr>\n",
       "      <th>1</th>\n",
       "      <td>1.456210</td>\n",
       "      <td>0.427500</td>\n",
       "      <td>-0.721851</td>\n",
       "      <td>-1.493967</td>\n",
       "      <td>1.081013</td>\n",
       "      <td>-0.480533</td>\n",
       "      <td>-0.413014</td>\n",
       "      <td>0.285254</td>\n",
       "      <td>-0.340345</td>\n",
       "      <td>1.048345</td>\n",
       "      <td>...</td>\n",
       "      <td>0.122286</td>\n",
       "      <td>0.391398</td>\n",
       "      <td>-0.523072</td>\n",
       "      <td>-0.248091</td>\n",
       "      <td>0.732693</td>\n",
       "      <td>0.897241</td>\n",
       "      <td>-0.166863</td>\n",
       "      <td>0.365331</td>\n",
       "      <td>-0.282128</td>\n",
       "      <td>0.094608</td>\n",
       "    </tr>\n",
       "    <tr>\n",
       "      <th>2</th>\n",
       "      <td>0.739583</td>\n",
       "      <td>-0.245726</td>\n",
       "      <td>-0.108649</td>\n",
       "      <td>-0.393256</td>\n",
       "      <td>0.645251</td>\n",
       "      <td>-1.167343</td>\n",
       "      <td>-0.528575</td>\n",
       "      <td>1.418152</td>\n",
       "      <td>-0.453724</td>\n",
       "      <td>-0.278970</td>\n",
       "      <td>...</td>\n",
       "      <td>0.252741</td>\n",
       "      <td>-0.724660</td>\n",
       "      <td>0.127723</td>\n",
       "      <td>-0.177164</td>\n",
       "      <td>1.657929</td>\n",
       "      <td>1.665471</td>\n",
       "      <td>1.373241</td>\n",
       "      <td>-0.004133</td>\n",
       "      <td>-0.453870</td>\n",
       "      <td>0.624380</td>\n",
       "    </tr>\n",
       "    <tr>\n",
       "      <th>3</th>\n",
       "      <td>0.374601</td>\n",
       "      <td>-0.150858</td>\n",
       "      <td>-0.013419</td>\n",
       "      <td>-1.022840</td>\n",
       "      <td>1.164619</td>\n",
       "      <td>-0.045881</td>\n",
       "      <td>0.028101</td>\n",
       "      <td>1.061302</td>\n",
       "      <td>-0.381707</td>\n",
       "      <td>0.609979</td>\n",
       "      <td>...</td>\n",
       "      <td>-0.123810</td>\n",
       "      <td>-0.222101</td>\n",
       "      <td>-1.292111</td>\n",
       "      <td>-0.434329</td>\n",
       "      <td>1.273648</td>\n",
       "      <td>1.538113</td>\n",
       "      <td>-0.262821</td>\n",
       "      <td>0.068657</td>\n",
       "      <td>-1.412173</td>\n",
       "      <td>-1.031423</td>\n",
       "    </tr>\n",
       "    <tr>\n",
       "      <th>4</th>\n",
       "      <td>-1.297149</td>\n",
       "      <td>0.402011</td>\n",
       "      <td>-0.468558</td>\n",
       "      <td>-1.139185</td>\n",
       "      <td>-0.013028</td>\n",
       "      <td>-0.644339</td>\n",
       "      <td>0.627444</td>\n",
       "      <td>-0.580150</td>\n",
       "      <td>-0.084935</td>\n",
       "      <td>0.822124</td>\n",
       "      <td>...</td>\n",
       "      <td>0.456621</td>\n",
       "      <td>-1.399169</td>\n",
       "      <td>-0.293569</td>\n",
       "      <td>0.741714</td>\n",
       "      <td>1.205895</td>\n",
       "      <td>1.705837</td>\n",
       "      <td>0.385911</td>\n",
       "      <td>-0.196678</td>\n",
       "      <td>-0.730132</td>\n",
       "      <td>-0.134583</td>\n",
       "    </tr>\n",
       "    <tr>\n",
       "      <th>...</th>\n",
       "      <td>...</td>\n",
       "      <td>...</td>\n",
       "      <td>...</td>\n",
       "      <td>...</td>\n",
       "      <td>...</td>\n",
       "      <td>...</td>\n",
       "      <td>...</td>\n",
       "      <td>...</td>\n",
       "      <td>...</td>\n",
       "      <td>...</td>\n",
       "      <td>...</td>\n",
       "      <td>...</td>\n",
       "      <td>...</td>\n",
       "      <td>...</td>\n",
       "      <td>...</td>\n",
       "      <td>...</td>\n",
       "      <td>...</td>\n",
       "      <td>...</td>\n",
       "      <td>...</td>\n",
       "      <td>...</td>\n",
       "      <td>...</td>\n",
       "    </tr>\n",
       "    <tr>\n",
       "      <th>23831</th>\n",
       "      <td>1.515055</td>\n",
       "      <td>-0.431417</td>\n",
       "      <td>-0.304350</td>\n",
       "      <td>-0.466435</td>\n",
       "      <td>-0.280647</td>\n",
       "      <td>-0.873209</td>\n",
       "      <td>0.030019</td>\n",
       "      <td>0.229390</td>\n",
       "      <td>-0.455538</td>\n",
       "      <td>-0.576342</td>\n",
       "      <td>...</td>\n",
       "      <td>0.929256</td>\n",
       "      <td>-0.176715</td>\n",
       "      <td>-0.872528</td>\n",
       "      <td>0.681049</td>\n",
       "      <td>0.122796</td>\n",
       "      <td>0.489373</td>\n",
       "      <td>-0.130842</td>\n",
       "      <td>0.018986</td>\n",
       "      <td>0.269465</td>\n",
       "      <td>-1.186915</td>\n",
       "    </tr>\n",
       "    <tr>\n",
       "      <th>23832</th>\n",
       "      <td>-0.468761</td>\n",
       "      <td>-0.813230</td>\n",
       "      <td>0.421769</td>\n",
       "      <td>0.759459</td>\n",
       "      <td>0.091138</td>\n",
       "      <td>-0.172827</td>\n",
       "      <td>-0.149205</td>\n",
       "      <td>-0.041261</td>\n",
       "      <td>0.283715</td>\n",
       "      <td>0.335454</td>\n",
       "      <td>...</td>\n",
       "      <td>1.338163</td>\n",
       "      <td>-0.204426</td>\n",
       "      <td>0.074674</td>\n",
       "      <td>1.886328</td>\n",
       "      <td>1.093886</td>\n",
       "      <td>-0.110166</td>\n",
       "      <td>0.149022</td>\n",
       "      <td>0.564670</td>\n",
       "      <td>1.115814</td>\n",
       "      <td>-0.121593</td>\n",
       "    </tr>\n",
       "    <tr>\n",
       "      <th>23833</th>\n",
       "      <td>0.440848</td>\n",
       "      <td>-0.398213</td>\n",
       "      <td>-0.204516</td>\n",
       "      <td>-0.179232</td>\n",
       "      <td>1.043316</td>\n",
       "      <td>0.164469</td>\n",
       "      <td>0.402168</td>\n",
       "      <td>-0.003115</td>\n",
       "      <td>-0.021793</td>\n",
       "      <td>-0.256044</td>\n",
       "      <td>...</td>\n",
       "      <td>-0.553790</td>\n",
       "      <td>-0.429566</td>\n",
       "      <td>-0.554298</td>\n",
       "      <td>0.490498</td>\n",
       "      <td>0.878418</td>\n",
       "      <td>-0.329386</td>\n",
       "      <td>0.798189</td>\n",
       "      <td>-0.151085</td>\n",
       "      <td>0.666669</td>\n",
       "      <td>-0.363450</td>\n",
       "    </tr>\n",
       "    <tr>\n",
       "      <th>23834</th>\n",
       "      <td>-0.515678</td>\n",
       "      <td>0.541302</td>\n",
       "      <td>0.164292</td>\n",
       "      <td>0.520151</td>\n",
       "      <td>0.775367</td>\n",
       "      <td>0.363872</td>\n",
       "      <td>1.471387</td>\n",
       "      <td>-0.050492</td>\n",
       "      <td>-1.319565</td>\n",
       "      <td>0.956830</td>\n",
       "      <td>...</td>\n",
       "      <td>-0.292073</td>\n",
       "      <td>0.330839</td>\n",
       "      <td>0.187843</td>\n",
       "      <td>-0.371171</td>\n",
       "      <td>-0.284027</td>\n",
       "      <td>0.100263</td>\n",
       "      <td>-0.464110</td>\n",
       "      <td>1.139689</td>\n",
       "      <td>-2.584928</td>\n",
       "      <td>-0.620282</td>\n",
       "    </tr>\n",
       "    <tr>\n",
       "      <th>23835</th>\n",
       "      <td>-0.463597</td>\n",
       "      <td>-0.130856</td>\n",
       "      <td>-0.200831</td>\n",
       "      <td>0.410418</td>\n",
       "      <td>0.229727</td>\n",
       "      <td>0.074467</td>\n",
       "      <td>0.740205</td>\n",
       "      <td>0.437663</td>\n",
       "      <td>-1.601190</td>\n",
       "      <td>0.311448</td>\n",
       "      <td>...</td>\n",
       "      <td>-0.100192</td>\n",
       "      <td>0.408108</td>\n",
       "      <td>-0.075845</td>\n",
       "      <td>-0.568512</td>\n",
       "      <td>-0.062862</td>\n",
       "      <td>-0.064749</td>\n",
       "      <td>-0.871278</td>\n",
       "      <td>-0.138925</td>\n",
       "      <td>-2.305394</td>\n",
       "      <td>-0.466221</td>\n",
       "    </tr>\n",
       "  </tbody>\n",
       "</table>\n",
       "<p>23836 rows × 1024 columns</p>\n",
       "</div>"
      ],
      "text/plain": [
       "              0         1         2         3         4         5         6  \\\n",
       "0     -0.266187 -0.660178 -0.371666 -0.630971 -0.358803 -1.391885  0.160033   \n",
       "1      1.456210  0.427500 -0.721851 -1.493967  1.081013 -0.480533 -0.413014   \n",
       "2      0.739583 -0.245726 -0.108649 -0.393256  0.645251 -1.167343 -0.528575   \n",
       "3      0.374601 -0.150858 -0.013419 -1.022840  1.164619 -0.045881  0.028101   \n",
       "4     -1.297149  0.402011 -0.468558 -1.139185 -0.013028 -0.644339  0.627444   \n",
       "...         ...       ...       ...       ...       ...       ...       ...   \n",
       "23831  1.515055 -0.431417 -0.304350 -0.466435 -0.280647 -0.873209  0.030019   \n",
       "23832 -0.468761 -0.813230  0.421769  0.759459  0.091138 -0.172827 -0.149205   \n",
       "23833  0.440848 -0.398213 -0.204516 -0.179232  1.043316  0.164469  0.402168   \n",
       "23834 -0.515678  0.541302  0.164292  0.520151  0.775367  0.363872  1.471387   \n",
       "23835 -0.463597 -0.130856 -0.200831  0.410418  0.229727  0.074467  0.740205   \n",
       "\n",
       "              7         8         9  ...      1014      1015      1016  \\\n",
       "0      0.478119  0.212221  1.083352  ...  0.428783 -1.124803 -0.256399   \n",
       "1      0.285254 -0.340345  1.048345  ...  0.122286  0.391398 -0.523072   \n",
       "2      1.418152 -0.453724 -0.278970  ...  0.252741 -0.724660  0.127723   \n",
       "3      1.061302 -0.381707  0.609979  ... -0.123810 -0.222101 -1.292111   \n",
       "4     -0.580150 -0.084935  0.822124  ...  0.456621 -1.399169 -0.293569   \n",
       "...         ...       ...       ...  ...       ...       ...       ...   \n",
       "23831  0.229390 -0.455538 -0.576342  ...  0.929256 -0.176715 -0.872528   \n",
       "23832 -0.041261  0.283715  0.335454  ...  1.338163 -0.204426  0.074674   \n",
       "23833 -0.003115 -0.021793 -0.256044  ... -0.553790 -0.429566 -0.554298   \n",
       "23834 -0.050492 -1.319565  0.956830  ... -0.292073  0.330839  0.187843   \n",
       "23835  0.437663 -1.601190  0.311448  ... -0.100192  0.408108 -0.075845   \n",
       "\n",
       "           1017      1018      1019      1020      1021      1022      1023  \n",
       "0      0.317885 -0.474741  0.325401 -0.264061 -0.664652 -1.497020  0.201376  \n",
       "1     -0.248091  0.732693  0.897241 -0.166863  0.365331 -0.282128  0.094608  \n",
       "2     -0.177164  1.657929  1.665471  1.373241 -0.004133 -0.453870  0.624380  \n",
       "3     -0.434329  1.273648  1.538113 -0.262821  0.068657 -1.412173 -1.031423  \n",
       "4      0.741714  1.205895  1.705837  0.385911 -0.196678 -0.730132 -0.134583  \n",
       "...         ...       ...       ...       ...       ...       ...       ...  \n",
       "23831  0.681049  0.122796  0.489373 -0.130842  0.018986  0.269465 -1.186915  \n",
       "23832  1.886328  1.093886 -0.110166  0.149022  0.564670  1.115814 -0.121593  \n",
       "23833  0.490498  0.878418 -0.329386  0.798189 -0.151085  0.666669 -0.363450  \n",
       "23834 -0.371171 -0.284027  0.100263 -0.464110  1.139689 -2.584928 -0.620282  \n",
       "23835 -0.568512 -0.062862 -0.064749 -0.871278 -0.138925 -2.305394 -0.466221  \n",
       "\n",
       "[23836 rows x 1024 columns]"
      ]
     },
     "execution_count": 9,
     "metadata": {},
     "output_type": "execute_result"
    }
   ],
   "source": [
    "matrix"
   ]
  },
  {
   "cell_type": "code",
   "execution_count": null,
   "metadata": {},
   "outputs": [],
   "source": []
  },
  {
   "cell_type": "code",
   "execution_count": 13,
   "metadata": {},
   "outputs": [],
   "source": [
    "X = matrix\n",
    "y = variables[\"Gender\"]"
   ]
  },
  {
   "cell_type": "code",
   "execution_count": 14,
   "metadata": {},
   "outputs": [],
   "source": [
    "X_train, X_test, y_train, y_test = train_test_split(X, y, random_state=1)"
   ]
  },
  {
   "cell_type": "code",
   "execution_count": 15,
   "metadata": {},
   "outputs": [
    {
     "data": {
      "text/plain": [
       "0    9076\n",
       "1    8801\n",
       "Name: Gender, dtype: int64"
      ]
     },
     "execution_count": 15,
     "metadata": {},
     "output_type": "execute_result"
    }
   ],
   "source": [
    "y_train.value_counts()"
   ]
  },
  {
   "cell_type": "code",
   "execution_count": 16,
   "metadata": {
    "scrolled": true
   },
   "outputs": [
    {
     "data": {
      "text/plain": [
       "0    3001\n",
       "1    2958\n",
       "Name: Gender, dtype: int64"
      ]
     },
     "execution_count": 16,
     "metadata": {},
     "output_type": "execute_result"
    }
   ],
   "source": [
    "y_test.value_counts()"
   ]
  },
  {
   "cell_type": "code",
   "execution_count": 17,
   "metadata": {},
   "outputs": [
    {
     "data": {
      "text/plain": [
       "5959"
      ]
     },
     "execution_count": 17,
     "metadata": {},
     "output_type": "execute_result"
    }
   ],
   "source": [
    "len(y_test)"
   ]
  },
  {
   "cell_type": "code",
   "execution_count": 19,
   "metadata": {},
   "outputs": [
    {
     "name": "stdout",
     "output_type": "stream",
     "text": [
      "Accuracy =  0.5947306595066286\n",
      "Precision =  0.5944347826086956\n",
      "Recall =  0.5777552400270453\n",
      "F1 Score =  0.5859763415052288\n",
      "MSE =  0.4052693404933714\n",
      "Confusion Matrix \n",
      " [[1835 1166]\n",
      " [1249 1709]]\n"
     ]
    }
   ],
   "source": [
    "#Logistic\n",
    "#Instantiate, train - fit, predict and evaluate.\n",
    "logreg = LogisticRegression(n_jobs=1, C=1e5,solver='lbfgs', max_iter=10000)\n",
    "\n",
    "logreg.fit(X_train, y_train)\n",
    "\n",
    "y_pred = logreg.predict(X_test)\n",
    "\n",
    "display_results(y_test, y_pred)"
   ]
  },
  {
   "cell_type": "code",
   "execution_count": 16,
   "metadata": {},
   "outputs": [
    {
     "data": {
      "text/plain": [
       "array([[1835, 1166],\n",
       "       [1249, 1709]], dtype=int64)"
      ]
     },
     "execution_count": 16,
     "metadata": {},
     "output_type": "execute_result"
    }
   ],
   "source": [
    "#Confusion matrix\n",
    "conf2 = metrics.confusion_matrix(y_test, y_pred)\n",
    "conf2"
   ]
  },
  {
   "cell_type": "code",
   "execution_count": 17,
   "metadata": {
    "scrolled": true
   },
   "outputs": [
    {
     "name": "stdout",
     "output_type": "stream",
     "text": [
      "Accuracy =  0.5947306595066286\n",
      "Precision =  0.5944347826086956\n",
      "Recall =  0.5777552400270453\n",
      "F1 Score =  0.5859763415052288\n",
      "MSE =  0.4052693404933714\n",
      "Confusion Matrix \n",
      " [[1835 1166]\n",
      " [1249 1709]]\n"
     ]
    }
   ],
   "source": [
    "display_results(y_test, y_pred)"
   ]
  },
  {
   "cell_type": "code",
   "execution_count": 18,
   "metadata": {},
   "outputs": [
    {
     "data": {
      "image/png": "[encoded data removed]",
      "text/plain": [
       "<Figure size 432x288 with 1 Axes>"
      ]
     },
     "metadata": {
      "needs_background": "light"
     },
     "output_type": "display_data"
    }
   ],
   "source": [
    "generate_auc_roc_curve(logreg, X_test, y_test)"
   ]
  },
  {
   "cell_type": "code",
   "execution_count": 19,
   "metadata": {},
   "outputs": [
    {
     "data": {
      "text/plain": [
       "array([[-0.14241056, -0.29679674, -0.53577797, ...,  0.00208323,\n",
       "         0.00979837, -0.05278285]])"
      ]
     },
     "execution_count": 19,
     "metadata": {},
     "output_type": "execute_result"
    }
   ],
   "source": [
    "logreg.coef_"
   ]
  },
  {
   "cell_type": "code",
   "execution_count": 20,
   "metadata": {
    "scrolled": true
   },
   "outputs": [
    {
     "data": {
      "text/plain": [
       "array([[-0.58038745, -0.53577797, -0.40133802, ...,  0.35843309,\n",
       "         0.46265934,  0.46961963]])"
      ]
     },
     "execution_count": 20,
     "metadata": {},
     "output_type": "execute_result"
    }
   ],
   "source": [
    "np.sort(logreg.coef_)"
   ]
  },
  {
   "cell_type": "code",
   "execution_count": 21,
   "metadata": {},
   "outputs": [
    {
     "name": "stdout",
     "output_type": "stream",
     "text": [
      "[[-0.14241056 -0.29679674 -0.53577797 ...  0.00208323  0.00979837\n",
      "  -0.05278285]]\n"
     ]
    }
   ],
   "source": [
    "print(logreg.coef_ )\n",
    "feature_rank = np.argsort(logreg.coef_)"
   ]
  },
  {
   "cell_type": "code",
   "execution_count": 22,
   "metadata": {},
   "outputs": [
    {
     "data": {
      "text/plain": [
       "array([[547,   2, 369, ..., 629, 472, 539]], dtype=int64)"
      ]
     },
     "execution_count": 22,
     "metadata": {},
     "output_type": "execute_result"
    }
   ],
   "source": [
    "feature_rank"
   ]
  },
  {
   "cell_type": "code",
   "execution_count": 23,
   "metadata": {},
   "outputs": [
    {
     "name": "stdout",
     "output_type": "stream",
     "text": [
      "Testing accuracy 0.5890250041953348\n",
      "Testing F1 score: 0.5959412638178517\n"
     ]
    }
   ],
   "source": [
    "#SVM classifer\n",
    "from sklearn import svm\n",
    "#fit model\n",
    "clf = svm.SVC(kernel='rbf', C = 0.05)\n",
    "clf.fit(X_train, y_train)\n",
    "y_pred = clf.predict(X_test)\n",
    "print('Testing accuracy %s' % accuracy_score(y_test, y_pred))\n",
    "print('Testing F1 score: {}'.format(f1_score(y_test, y_pred)))"
   ]
  },
  {
   "cell_type": "code",
   "execution_count": 24,
   "metadata": {},
   "outputs": [
    {
     "name": "stdout",
     "output_type": "stream",
     "text": [
      "Accuracy =  0.5890250041953348\n",
      "Precision =  0.5820174025136964\n",
      "Recall =  0.6105476673427992\n",
      "F1 Score =  0.5959412638178517\n",
      "MSE =  0.41097499580466523\n",
      "Confusion Matrix \n",
      " [[1704 1297]\n",
      " [1152 1806]]\n"
     ]
    }
   ],
   "source": [
    "display_results(y_test, y_pred)"
   ]
  },
  {
   "cell_type": "code",
   "execution_count": 21,
   "metadata": {},
   "outputs": [],
   "source": [
    "from sklearn.ensemble import BaggingClassifier\n",
    "from sklearn.tree import DecisionTreeClassifier"
   ]
  },
  {
   "cell_type": "code",
   "execution_count": 25,
   "metadata": {},
   "outputs": [],
   "source": [
    "#create model\n",
    "bag_clf = BaggingClassifier(\n",
    "    DecisionTreeClassifier(splitter=\"random\",  random_state=42),\n",
    "    n_estimators=100, bootstrap=True, n_jobs=-1, random_state=42)"
   ]
  },
  {
   "cell_type": "code",
   "execution_count": 26,
   "metadata": {},
   "outputs": [],
   "source": [
    "#fit moel\n",
    "bag_clf.fit(X_train, y_train)\n",
    "y_pred_bt = bag_clf.predict(X_test)\n"
   ]
  },
  {
   "cell_type": "code",
   "execution_count": 27,
   "metadata": {},
   "outputs": [
    {
     "name": "stdout",
     "output_type": "stream",
     "text": [
      "Accuracy =  0.5984225541198188\n",
      "Precision =  0.5991575991575991\n",
      "Recall =  0.577079107505071\n",
      "F1 Score =  0.5879111417255037\n",
      "MSE =  0.40157744588018124\n",
      "Confusion Matrix \n",
      " [[1859 1142]\n",
      " [1251 1707]]\n"
     ]
    }
   ],
   "source": [
    "display_results(y_test, y_pred_bt)"
   ]
  },
  {
   "cell_type": "code",
   "execution_count": 28,
   "metadata": {},
   "outputs": [],
   "source": [
    "from sklearn.ensemble import RandomForestClassifier"
   ]
  },
  {
   "cell_type": "code",
   "execution_count": 29,
   "metadata": {},
   "outputs": [],
   "source": [
    "#fit model\n",
    "rnd_clf = RandomForestClassifier(n_estimators=100, random_state=42,n_jobs=-1)\n",
    "rnd_clf.fit(X_train, y_train)\n",
    "\n",
    "y_pred_rf = rnd_clf.predict(X_test)"
   ]
  },
  {
   "cell_type": "code",
   "execution_count": 36,
   "metadata": {},
   "outputs": [
    {
     "name": "stdout",
     "output_type": "stream",
     "text": [
      "Accuracy =  0.615203893270683\n",
      "Precision =  0.6107226107226107\n",
      "Recall =  0.6200135226504395\n",
      "F1 Score =  0.6153329978191578\n",
      "MSE =  0.384796106729317\n",
      "Confusion Matrix \n",
      " [[1832 1169]\n",
      " [1124 1834]]\n"
     ]
    }
   ],
   "source": [
    "display_results(y_test, y_pred_rf)"
   ]
  },
  {
   "cell_type": "code",
   "execution_count": 37,
   "metadata": {},
   "outputs": [],
   "source": [
    "#get index of sorted importance\n",
    "feature_rank = np.argsort(rnd_clf.feature_importances_)"
   ]
  },
  {
   "cell_type": "code",
   "execution_count": 38,
   "metadata": {},
   "outputs": [
    {
     "data": {
      "text/plain": [
       "array([ 220, 1000,   79, ...,  658,  651,  967], dtype=int64)"
      ]
     },
     "execution_count": 38,
     "metadata": {},
     "output_type": "execute_result"
    }
   ],
   "source": [
    "feature_rank"
   ]
  }
 ],
 "metadata": {
  "kernelspec": {
   "display_name": "Python 3",
   "language": "python",
   "name": "python3"
  },
  "language_info": {
   "codemirror_mode": {
    "name": "ipython",
    "version": 3
   },
   "file_extension": ".py",
   "mimetype": "text/x-python",
   "name": "python",
   "nbconvert_exporter": "python",
   "pygments_lexer": "ipython3",
   "version": "3.8.3"
  }
 },
 "nbformat": 4,
 "nbformat_minor": 4
}
