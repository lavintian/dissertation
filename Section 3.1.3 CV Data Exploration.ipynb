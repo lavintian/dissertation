{
 "cells": [
  {
   "cell_type": "code",
   "execution_count": 1,
   "metadata": {},
   "outputs": [],
   "source": [
    "import numpy as np\n",
    "import pandas as pd\n",
    "import matplotlib.pyplot as plt\n",
    "import seaborn as sns\n",
    "import re\n",
    "import docx2txt\n",
    "import PyPDF2\n",
    "import tika\n",
    "import io\n",
    "import os"
   ]
  },
  {
   "cell_type": "code",
   "execution_count": 98,
   "metadata": {},
   "outputs": [],
   "source": [
    "table = pd.read_csv('pre_clean_text_680.csv', encoding = 'latin-1')"
   ]
  },
  {
   "cell_type": "code",
   "execution_count": 99,
   "metadata": {},
   "outputs": [
    {
     "name": "stdout",
     "output_type": "stream",
     "text": [
      "<class 'pandas.core.frame.DataFrame'>\n",
      "RangeIndex: 680 entries, 0 to 679\n",
      "Data columns (total 17 columns):\n",
      " #   Column                Non-Null Count  Dtype \n",
      "---  ------                --------------  ----- \n",
      " 0   Unnamed: 0            680 non-null    int64 \n",
      " 1   index                 680 non-null    int64 \n",
      " 2   ID                    680 non-null    int64 \n",
      " 3   Gender                680 non-null    int64 \n",
      " 4   Search term           680 non-null    object\n",
      " 5   Current job role      680 non-null    object\n",
      " 6   Desired job title     679 non-null    object\n",
      " 7   Salary minimum        680 non-null    int64 \n",
      " 8   Sal_goup              680 non-null    int64 \n",
      " 9   County (; separated)  636 non-null    object\n",
      " 10  Full_time             680 non-null    int64 \n",
      " 11  part_time             680 non-null    int64 \n",
      " 12  permanent             680 non-null    int64 \n",
      " 13  temporary             680 non-null    int64 \n",
      " 14  contract              680 non-null    int64 \n",
      " 15  filename              680 non-null    object\n",
      " 16  clean1                680 non-null    object\n",
      "dtypes: int64(11), object(6)\n",
      "memory usage: 90.4+ KB\n"
     ]
    }
   ],
   "source": [
    "table.info()"
   ]
  },
  {
   "cell_type": "code",
   "execution_count": 100,
   "metadata": {},
   "outputs": [],
   "source": [
    "df_icm = table"
   ]
  },
  {
   "cell_type": "code",
   "execution_count": 101,
   "metadata": {},
   "outputs": [],
   "source": [
    "df_icm['Salary minimum'].fillna(df_icm['Salary minimum'].median(), inplace = True)"
   ]
  },
  {
   "cell_type": "code",
   "execution_count": 102,
   "metadata": {},
   "outputs": [
    {
     "data": {
      "text/plain": [
       "0      35000\n",
       "1      26880\n",
       "2      45000\n",
       "3      20480\n",
       "4      20000\n",
       "       ...  \n",
       "675    25000\n",
       "676    19200\n",
       "677    40000\n",
       "678    23000\n",
       "679    50000\n",
       "Name: Salary minimum, Length: 680, dtype: int32"
      ]
     },
     "execution_count": 102,
     "metadata": {},
     "output_type": "execute_result"
    }
   ],
   "source": [
    "df_icm['Salary minimum'].astype(int)"
   ]
  },
  {
   "cell_type": "code",
   "execution_count": 103,
   "metadata": {},
   "outputs": [
    {
     "data": {
      "text/html": [
       "<div>\n",
       "<style scoped>\n",
       "    .dataframe tbody tr th:only-of-type {\n",
       "        vertical-align: middle;\n",
       "    }\n",
       "\n",
       "    .dataframe tbody tr th {\n",
       "        vertical-align: top;\n",
       "    }\n",
       "\n",
       "    .dataframe thead th {\n",
       "        text-align: right;\n",
       "    }\n",
       "</style>\n",
       "<table border=\"1\" class=\"dataframe\">\n",
       "  <thead>\n",
       "    <tr style=\"text-align: right;\">\n",
       "      <th></th>\n",
       "      <th>Unnamed: 0</th>\n",
       "      <th>index</th>\n",
       "      <th>ID</th>\n",
       "      <th>Gender</th>\n",
       "      <th>Search term</th>\n",
       "      <th>Current job role</th>\n",
       "      <th>Desired job title</th>\n",
       "      <th>Salary minimum</th>\n",
       "      <th>Sal_goup</th>\n",
       "      <th>County (; separated)</th>\n",
       "      <th>Full_time</th>\n",
       "      <th>part_time</th>\n",
       "      <th>permanent</th>\n",
       "      <th>temporary</th>\n",
       "      <th>contract</th>\n",
       "      <th>filename</th>\n",
       "      <th>clean1</th>\n",
       "    </tr>\n",
       "  </thead>\n",
       "  <tbody>\n",
       "    <tr>\n",
       "      <th>0</th>\n",
       "      <td>0</td>\n",
       "      <td>0</td>\n",
       "      <td>1001</td>\n",
       "      <td>1</td>\n",
       "      <td>aerospace</td>\n",
       "      <td>intern</td>\n",
       "      <td>propulsion test engineer</td>\n",
       "      <td>35000</td>\n",
       "      <td>2</td>\n",
       "      <td>london</td>\n",
       "      <td>1</td>\n",
       "      <td>1</td>\n",
       "      <td>1</td>\n",
       "      <td>0</td>\n",
       "      <td>0</td>\n",
       "      <td>1001.pdf</td>\n",
       "      <td>Education M.S. in Space and Astronautical Eng...</td>\n",
       "    </tr>\n",
       "    <tr>\n",
       "      <th>1</th>\n",
       "      <td>1</td>\n",
       "      <td>1</td>\n",
       "      <td>1002</td>\n",
       "      <td>0</td>\n",
       "      <td>mechancial</td>\n",
       "      <td>mechanical technician</td>\n",
       "      <td>tm operative</td>\n",
       "      <td>26880</td>\n",
       "      <td>1</td>\n",
       "      <td>cleveland</td>\n",
       "      <td>1</td>\n",
       "      <td>1</td>\n",
       "      <td>1</td>\n",
       "      <td>1</td>\n",
       "      <td>1</td>\n",
       "      <td>1002.docx</td>\n",
       "      <td>PROFILE A timed served Mechanical Fitter, wit...</td>\n",
       "    </tr>\n",
       "    <tr>\n",
       "      <th>2</th>\n",
       "      <td>2</td>\n",
       "      <td>2</td>\n",
       "      <td>1003</td>\n",
       "      <td>1</td>\n",
       "      <td>construction</td>\n",
       "      <td>commercial planning engineer</td>\n",
       "      <td>cost manager</td>\n",
       "      <td>45000</td>\n",
       "      <td>3</td>\n",
       "      <td>london</td>\n",
       "      <td>1</td>\n",
       "      <td>1</td>\n",
       "      <td>1</td>\n",
       "      <td>0</td>\n",
       "      <td>1</td>\n",
       "      <td>1003.pdf</td>\n",
       "      <td>MScConstructionCostManagementStudentatUniversi...</td>\n",
       "    </tr>\n",
       "    <tr>\n",
       "      <th>3</th>\n",
       "      <td>3</td>\n",
       "      <td>3</td>\n",
       "      <td>1004</td>\n",
       "      <td>0</td>\n",
       "      <td>renewable</td>\n",
       "      <td>renewable/sustainable energy engineer</td>\n",
       "      <td>renewable/sustainable energy engineer</td>\n",
       "      <td>20480</td>\n",
       "      <td>1</td>\n",
       "      <td>lanarkshire</td>\n",
       "      <td>1</td>\n",
       "      <td>1</td>\n",
       "      <td>1</td>\n",
       "      <td>1</td>\n",
       "      <td>1</td>\n",
       "      <td>1004.pdf</td>\n",
       "      <td>SUSTAINABLE ENERGY [MSC] - ELECTRICAL AND ELEC...</td>\n",
       "    </tr>\n",
       "    <tr>\n",
       "      <th>4</th>\n",
       "      <td>4</td>\n",
       "      <td>4</td>\n",
       "      <td>1005</td>\n",
       "      <td>0</td>\n",
       "      <td>robotics</td>\n",
       "      <td>robotics engineer</td>\n",
       "      <td>robotics engineer</td>\n",
       "      <td>20000</td>\n",
       "      <td>1</td>\n",
       "      <td>london</td>\n",
       "      <td>1</td>\n",
       "      <td>1</td>\n",
       "      <td>1</td>\n",
       "      <td>1</td>\n",
       "      <td>1</td>\n",
       "      <td>1005.pdf</td>\n",
       "      <td>Skills SolidWorks (technical drawings, protot...</td>\n",
       "    </tr>\n",
       "    <tr>\n",
       "      <th>...</th>\n",
       "      <td>...</td>\n",
       "      <td>...</td>\n",
       "      <td>...</td>\n",
       "      <td>...</td>\n",
       "      <td>...</td>\n",
       "      <td>...</td>\n",
       "      <td>...</td>\n",
       "      <td>...</td>\n",
       "      <td>...</td>\n",
       "      <td>...</td>\n",
       "      <td>...</td>\n",
       "      <td>...</td>\n",
       "      <td>...</td>\n",
       "      <td>...</td>\n",
       "      <td>...</td>\n",
       "      <td>...</td>\n",
       "      <td>...</td>\n",
       "    </tr>\n",
       "    <tr>\n",
       "      <th>675</th>\n",
       "      <td>693</td>\n",
       "      <td>693</td>\n",
       "      <td>1694</td>\n",
       "      <td>0</td>\n",
       "      <td>robotics</td>\n",
       "      <td>structures intern</td>\n",
       "      <td>graduate technical consultant</td>\n",
       "      <td>25000</td>\n",
       "      <td>1</td>\n",
       "      <td>london</td>\n",
       "      <td>1</td>\n",
       "      <td>1</td>\n",
       "      <td>1</td>\n",
       "      <td>0</td>\n",
       "      <td>0</td>\n",
       "      <td>1694.docx</td>\n",
       "      <td>PROFILE Energetic and highly motivated aerospa...</td>\n",
       "    </tr>\n",
       "    <tr>\n",
       "      <th>676</th>\n",
       "      <td>694</td>\n",
       "      <td>694</td>\n",
       "      <td>1695</td>\n",
       "      <td>1</td>\n",
       "      <td>construction</td>\n",
       "      <td>civil engineer</td>\n",
       "      <td>civil engineer</td>\n",
       "      <td>19200</td>\n",
       "      <td>0</td>\n",
       "      <td>hampshire</td>\n",
       "      <td>1</td>\n",
       "      <td>1</td>\n",
       "      <td>1</td>\n",
       "      <td>1</td>\n",
       "      <td>1</td>\n",
       "      <td>1695.docx</td>\n",
       "      <td>A highly qualified, experienced and dynamic pr...</td>\n",
       "    </tr>\n",
       "    <tr>\n",
       "      <th>677</th>\n",
       "      <td>695</td>\n",
       "      <td>695</td>\n",
       "      <td>1696</td>\n",
       "      <td>0</td>\n",
       "      <td>construction</td>\n",
       "      <td>construction site manager</td>\n",
       "      <td>civil engineer</td>\n",
       "      <td>40000</td>\n",
       "      <td>3</td>\n",
       "      <td>gwynedd</td>\n",
       "      <td>1</td>\n",
       "      <td>1</td>\n",
       "      <td>1</td>\n",
       "      <td>0</td>\n",
       "      <td>0</td>\n",
       "      <td>1696.pdf</td>\n",
       "      <td>Innovative Construction Manager skilled in mot...</td>\n",
       "    </tr>\n",
       "    <tr>\n",
       "      <th>678</th>\n",
       "      <td>696</td>\n",
       "      <td>696</td>\n",
       "      <td>1697</td>\n",
       "      <td>1</td>\n",
       "      <td>rail</td>\n",
       "      <td>graduate engineer</td>\n",
       "      <td>graduate engineer</td>\n",
       "      <td>23000</td>\n",
       "      <td>1</td>\n",
       "      <td>NaN</td>\n",
       "      <td>1</td>\n",
       "      <td>1</td>\n",
       "      <td>1</td>\n",
       "      <td>1</td>\n",
       "      <td>1</td>\n",
       "      <td>1697.pdf</td>\n",
       "      <td>PROFILE I am an Engineering graduate looking f...</td>\n",
       "    </tr>\n",
       "    <tr>\n",
       "      <th>679</th>\n",
       "      <td>697</td>\n",
       "      <td>697</td>\n",
       "      <td>1698</td>\n",
       "      <td>0</td>\n",
       "      <td>robotics</td>\n",
       "      <td>robotics software engineer</td>\n",
       "      <td>robotics software engineer</td>\n",
       "      <td>50000</td>\n",
       "      <td>4</td>\n",
       "      <td>south yorkshire</td>\n",
       "      <td>1</td>\n",
       "      <td>1</td>\n",
       "      <td>1</td>\n",
       "      <td>0</td>\n",
       "      <td>0</td>\n",
       "      <td>1698.pdf</td>\n",
       "      <td>(Robotics and System Integration Engineer) Con...</td>\n",
       "    </tr>\n",
       "  </tbody>\n",
       "</table>\n",
       "<p>680 rows × 17 columns</p>\n",
       "</div>"
      ],
      "text/plain": [
       "     Unnamed: 0  index    ID  Gender   Search term  \\\n",
       "0             0      0  1001       1     aerospace   \n",
       "1             1      1  1002       0    mechancial   \n",
       "2             2      2  1003       1  construction   \n",
       "3             3      3  1004       0     renewable   \n",
       "4             4      4  1005       0      robotics   \n",
       "..          ...    ...   ...     ...           ...   \n",
       "675         693    693  1694       0      robotics   \n",
       "676         694    694  1695       1  construction   \n",
       "677         695    695  1696       0  construction   \n",
       "678         696    696  1697       1          rail   \n",
       "679         697    697  1698       0      robotics   \n",
       "\n",
       "                          Current job role  \\\n",
       "0                                   intern   \n",
       "1                    mechanical technician   \n",
       "2             commercial planning engineer   \n",
       "3    renewable/sustainable energy engineer   \n",
       "4                        robotics engineer   \n",
       "..                                     ...   \n",
       "675                      structures intern   \n",
       "676                         civil engineer   \n",
       "677              construction site manager   \n",
       "678                      graduate engineer   \n",
       "679             robotics software engineer   \n",
       "\n",
       "                         Desired job title  Salary minimum  Sal_goup  \\\n",
       "0                 propulsion test engineer           35000         2   \n",
       "1                             tm operative           26880         1   \n",
       "2                             cost manager           45000         3   \n",
       "3    renewable/sustainable energy engineer           20480         1   \n",
       "4                        robotics engineer           20000         1   \n",
       "..                                     ...             ...       ...   \n",
       "675          graduate technical consultant           25000         1   \n",
       "676                         civil engineer           19200         0   \n",
       "677                         civil engineer           40000         3   \n",
       "678                      graduate engineer           23000         1   \n",
       "679             robotics software engineer           50000         4   \n",
       "\n",
       "    County (; separated)  Full_time  part_time  permanent  temporary  \\\n",
       "0                 london          1          1          1          0   \n",
       "1              cleveland          1          1          1          1   \n",
       "2                 london          1          1          1          0   \n",
       "3            lanarkshire          1          1          1          1   \n",
       "4                 london          1          1          1          1   \n",
       "..                   ...        ...        ...        ...        ...   \n",
       "675               london          1          1          1          0   \n",
       "676            hampshire          1          1          1          1   \n",
       "677              gwynedd          1          1          1          0   \n",
       "678                  NaN          1          1          1          1   \n",
       "679      south yorkshire          1          1          1          0   \n",
       "\n",
       "     contract   filename                                             clean1  \n",
       "0           0   1001.pdf   Education M.S. in Space and Astronautical Eng...  \n",
       "1           1  1002.docx   PROFILE A timed served Mechanical Fitter, wit...  \n",
       "2           1   1003.pdf  MScConstructionCostManagementStudentatUniversi...  \n",
       "3           1   1004.pdf  SUSTAINABLE ENERGY [MSC] - ELECTRICAL AND ELEC...  \n",
       "4           1   1005.pdf   Skills SolidWorks (technical drawings, protot...  \n",
       "..        ...        ...                                                ...  \n",
       "675         0  1694.docx  PROFILE Energetic and highly motivated aerospa...  \n",
       "676         1  1695.docx  A highly qualified, experienced and dynamic pr...  \n",
       "677         0   1696.pdf  Innovative Construction Manager skilled in mot...  \n",
       "678         1   1697.pdf  PROFILE I am an Engineering graduate looking f...  \n",
       "679         0   1698.pdf  (Robotics and System Integration Engineer) Con...  \n",
       "\n",
       "[680 rows x 17 columns]"
      ]
     },
     "execution_count": 103,
     "metadata": {},
     "output_type": "execute_result"
    }
   ],
   "source": [
    "df_icm"
   ]
  },
  {
   "cell_type": "code",
   "execution_count": null,
   "metadata": {},
   "outputs": [],
   "source": []
  },
  {
   "cell_type": "markdown",
   "metadata": {},
   "source": [
    "#### 3.1.3.1 Salaries and Gender"
   ]
  },
  {
   "cell_type": "code",
   "execution_count": 104,
   "metadata": {},
   "outputs": [],
   "source": [
    "import scipy\n",
    "from scipy.stats import ks_2samp\n",
    "import numpy as np"
   ]
  },
  {
   "cell_type": "code",
   "execution_count": 106,
   "metadata": {},
   "outputs": [],
   "source": [
    "df_icm_1 =df_icm[df_icm['Gender']==1]\n",
    "df_icm_0 =df_icm[df_icm['Gender']==0]"
   ]
  },
  {
   "cell_type": "code",
   "execution_count": 107,
   "metadata": {},
   "outputs": [
    {
     "data": {
      "text/plain": [
       "0       35000\n",
       "2       45000\n",
       "5       17000\n",
       "8      100000\n",
       "15      20000\n",
       "        ...  \n",
       "664     20000\n",
       "671     32000\n",
       "672     35000\n",
       "676     19200\n",
       "678     23000\n",
       "Name: Salary minimum, Length: 339, dtype: int64"
      ]
     },
     "execution_count": 107,
     "metadata": {},
     "output_type": "execute_result"
    }
   ],
   "source": [
    "df_icm_1['Salary minimum']"
   ]
  },
  {
   "cell_type": "code",
   "execution_count": 108,
   "metadata": {},
   "outputs": [
    {
     "data": {
      "text/plain": [
       "count       339.000000\n",
       "mean      37083.530973\n",
       "std       18587.110968\n",
       "min        4000.000000\n",
       "25%       25000.000000\n",
       "50%       33000.000000\n",
       "75%       45000.000000\n",
       "max      134400.000000\n",
       "Name: Salary minimum, dtype: float64"
      ]
     },
     "execution_count": 108,
     "metadata": {},
     "output_type": "execute_result"
    }
   ],
   "source": [
    "df_icm_1['Salary minimum'].describe()"
   ]
  },
  {
   "cell_type": "code",
   "execution_count": 109,
   "metadata": {},
   "outputs": [
    {
     "data": {
      "text/plain": [
       "count       341.000000\n",
       "mean      39398.527859\n",
       "std       19754.509063\n",
       "min        1000.000000\n",
       "25%       26000.000000\n",
       "50%       35000.000000\n",
       "75%       45000.000000\n",
       "max      150000.000000\n",
       "Name: Salary minimum, dtype: float64"
      ]
     },
     "execution_count": 109,
     "metadata": {},
     "output_type": "execute_result"
    }
   ],
   "source": [
    "df_icm_0['Salary minimum'].describe()"
   ]
  },
  {
   "cell_type": "code",
   "execution_count": 110,
   "metadata": {},
   "outputs": [
    {
     "data": {
      "text/plain": [
       "(339, 17)"
      ]
     },
     "execution_count": 110,
     "metadata": {},
     "output_type": "execute_result"
    }
   ],
   "source": [
    "df_icm_1.shape"
   ]
  },
  {
   "cell_type": "code",
   "execution_count": 111,
   "metadata": {},
   "outputs": [
    {
     "data": {
      "text/plain": [
       "KstestResult(statistic=0.0710300262112994, pvalue=0.3361280771515339)"
      ]
     },
     "execution_count": 111,
     "metadata": {},
     "output_type": "execute_result"
    }
   ],
   "source": [
    "ks_2samp(df_icm_1['Salary minimum'],df_icm_0['Salary minimum'])"
   ]
  },
  {
   "cell_type": "code",
   "execution_count": 92,
   "metadata": {},
   "outputs": [
    {
     "data": {
      "text/plain": [
       "MannwhitneyuResult(statistic=57003.5, pvalue=0.07143519170620594)"
      ]
     },
     "execution_count": 92,
     "metadata": {},
     "output_type": "execute_result"
    }
   ],
   "source": [
    "scipy.stats.mannwhitneyu(df_icm_1['Salary minimum'],df_icm_0['Salary minimum'])"
   ]
  },
  {
   "cell_type": "code",
   "execution_count": 93,
   "metadata": {},
   "outputs": [
    {
     "name": "stderr",
     "output_type": "stream",
     "text": [
      "C:\\Users\\lavin\\anaconda3\\lib\\site-packages\\seaborn\\distributions.py:2557: FutureWarning: `distplot` is a deprecated function and will be removed in a future version. Please adapt your code to use either `displot` (a figure-level function with similar flexibility) or `histplot` (an axes-level function for histograms).\n",
      "  warnings.warn(msg, FutureWarning)\n",
      "C:\\Users\\lavin\\anaconda3\\lib\\site-packages\\seaborn\\distributions.py:2557: FutureWarning: `distplot` is a deprecated function and will be removed in a future version. Please adapt your code to use either `displot` (a figure-level function with similar flexibility) or `histplot` (an axes-level function for histograms).\n",
      "  warnings.warn(msg, FutureWarning)\n"
     ]
    },
    {
     "data": {
      "image/png": "[encoded data removed]",
      "text/plain": [
       "<Figure size 576x360 with 1 Axes>"
      ]
     },
     "metadata": {
      "needs_background": "light"
     },
     "output_type": "display_data"
    }
   ],
   "source": [
    "plt.figure(figsize=(8,5))\n",
    "sns.distplot(df_icm_0[\"Salary minimum\"])\n",
    "sns.distplot(df_icm_1[\"Salary minimum\"])\n",
    "plt.title ('Distribution of expected salary minimum for each gender group')\n",
    "plt.legend(['Male','Female'], loc='upper left')\n",
    "plt.show()"
   ]
  },
  {
   "cell_type": "code",
   "execution_count": 94,
   "metadata": {},
   "outputs": [
    {
     "data": {
      "image/png": "[encoded data removed]",
      "text/plain": [
       "<Figure size 432x288 with 1 Axes>"
      ]
     },
     "metadata": {
      "needs_background": "light"
     },
     "output_type": "display_data"
    }
   ],
   "source": [
    "sns.ecdfplot(data=df_icm, x=\"Salary minimum\", hue=\"Gender\", complementary=True)\n",
    "plt.title ('Cumulative salaries distribution for each gender group')\n",
    "plt.legend(['Male','Female'], loc='upper right')\n",
    "plt.show()"
   ]
  },
  {
   "cell_type": "markdown",
   "metadata": {},
   "source": [
    "#### 3.1.3.5 Length of CVs"
   ]
  },
  {
   "cell_type": "code",
   "execution_count": 112,
   "metadata": {},
   "outputs": [],
   "source": [
    "# file previous processed with excel\n",
    "length = pd.read_csv('Len.csv')"
   ]
  },
  {
   "cell_type": "code",
   "execution_count": 113,
   "metadata": {},
   "outputs": [
    {
     "data": {
      "text/html": [
       "<div>\n",
       "<style scoped>\n",
       "    .dataframe tbody tr th:only-of-type {\n",
       "        vertical-align: middle;\n",
       "    }\n",
       "\n",
       "    .dataframe tbody tr th {\n",
       "        vertical-align: top;\n",
       "    }\n",
       "\n",
       "    .dataframe thead th {\n",
       "        text-align: right;\n",
       "    }\n",
       "</style>\n",
       "<table border=\"1\" class=\"dataframe\">\n",
       "  <thead>\n",
       "    <tr style=\"text-align: right;\">\n",
       "      <th></th>\n",
       "      <th>Female</th>\n",
       "      <th>Male</th>\n",
       "    </tr>\n",
       "  </thead>\n",
       "  <tbody>\n",
       "    <tr>\n",
       "      <th>0</th>\n",
       "      <td>3001</td>\n",
       "      <td>4086.0</td>\n",
       "    </tr>\n",
       "    <tr>\n",
       "      <th>1</th>\n",
       "      <td>2637</td>\n",
       "      <td>4136.0</td>\n",
       "    </tr>\n",
       "    <tr>\n",
       "      <th>2</th>\n",
       "      <td>2052</td>\n",
       "      <td>3314.0</td>\n",
       "    </tr>\n",
       "    <tr>\n",
       "      <th>3</th>\n",
       "      <td>6457</td>\n",
       "      <td>13064.0</td>\n",
       "    </tr>\n",
       "    <tr>\n",
       "      <th>4</th>\n",
       "      <td>4437</td>\n",
       "      <td>3233.0</td>\n",
       "    </tr>\n",
       "    <tr>\n",
       "      <th>...</th>\n",
       "      <td>...</td>\n",
       "      <td>...</td>\n",
       "    </tr>\n",
       "    <tr>\n",
       "      <th>336</th>\n",
       "      <td>6618</td>\n",
       "      <td>3002.0</td>\n",
       "    </tr>\n",
       "    <tr>\n",
       "      <th>337</th>\n",
       "      <td>12816</td>\n",
       "      <td>4049.0</td>\n",
       "    </tr>\n",
       "    <tr>\n",
       "      <th>338</th>\n",
       "      <td>2711</td>\n",
       "      <td>3450.0</td>\n",
       "    </tr>\n",
       "    <tr>\n",
       "      <th>339</th>\n",
       "      <td>7793</td>\n",
       "      <td>NaN</td>\n",
       "    </tr>\n",
       "    <tr>\n",
       "      <th>340</th>\n",
       "      <td>6600</td>\n",
       "      <td>NaN</td>\n",
       "    </tr>\n",
       "  </tbody>\n",
       "</table>\n",
       "<p>341 rows × 2 columns</p>\n",
       "</div>"
      ],
      "text/plain": [
       "     Female     Male\n",
       "0      3001   4086.0\n",
       "1      2637   4136.0\n",
       "2      2052   3314.0\n",
       "3      6457  13064.0\n",
       "4      4437   3233.0\n",
       "..      ...      ...\n",
       "336    6618   3002.0\n",
       "337   12816   4049.0\n",
       "338    2711   3450.0\n",
       "339    7793      NaN\n",
       "340    6600      NaN\n",
       "\n",
       "[341 rows x 2 columns]"
      ]
     },
     "execution_count": 113,
     "metadata": {},
     "output_type": "execute_result"
    }
   ],
   "source": [
    "length"
   ]
  },
  {
   "cell_type": "code",
   "execution_count": 58,
   "metadata": {},
   "outputs": [
    {
     "name": "stderr",
     "output_type": "stream",
     "text": [
      "C:\\Users\\lavin\\anaconda3\\lib\\site-packages\\seaborn\\distributions.py:2557: FutureWarning: `distplot` is a deprecated function and will be removed in a future version. Please adapt your code to use either `displot` (a figure-level function with similar flexibility) or `histplot` (an axes-level function for histograms).\n",
      "  warnings.warn(msg, FutureWarning)\n",
      "C:\\Users\\lavin\\anaconda3\\lib\\site-packages\\seaborn\\distributions.py:2557: FutureWarning: `distplot` is a deprecated function and will be removed in a future version. Please adapt your code to use either `displot` (a figure-level function with similar flexibility) or `histplot` (an axes-level function for histograms).\n",
      "  warnings.warn(msg, FutureWarning)\n"
     ]
    },
    {
     "data": {
      "image/png": "[encoded data removed]",
      "text/plain": [
       "<Figure size 576x360 with 1 Axes>"
      ]
     },
     "metadata": {
      "needs_background": "light"
     },
     "output_type": "display_data"
    }
   ],
   "source": [
    "plt.figure(figsize=(8,5))\n",
    "sns.distplot(length['Male'])\n",
    "sns.distplot(length['Female'])\n",
    "plt.title ('Distribution of CV length for each gender group')\n",
    "plt.legend(['Male','Female'], loc='upper right')\n",
    "plt.xlabel('Length by characters')\n",
    "plt.show()"
   ]
  },
  {
   "cell_type": "code",
   "execution_count": null,
   "metadata": {},
   "outputs": [],
   "source": []
  },
  {
   "cell_type": "code",
   "execution_count": 60,
   "metadata": {},
   "outputs": [
    {
     "data": {
      "text/plain": [
       "KstestResult(statistic=0.10557184750733138, pvalue=0.04464814289064687)"
      ]
     },
     "execution_count": 60,
     "metadata": {},
     "output_type": "execute_result"
    }
   ],
   "source": [
    "ks_2samp(length['Male'],length['Female'])"
   ]
  },
  {
   "cell_type": "code",
   "execution_count": 59,
   "metadata": {},
   "outputs": [
    {
     "data": {
      "text/plain": [
       "MannwhitneyuResult(statistic=54421.5, pvalue=0.0741701009910105)"
      ]
     },
     "execution_count": 59,
     "metadata": {},
     "output_type": "execute_result"
    }
   ],
   "source": [
    "scipy.stats.mannwhitneyu(length['Male'],length['Female'])"
   ]
  },
  {
   "cell_type": "code",
   "execution_count": null,
   "metadata": {},
   "outputs": [],
   "source": []
  },
  {
   "cell_type": "markdown",
   "metadata": {},
   "source": [
    "#### Catagorical variables"
   ]
  },
  {
   "cell_type": "code",
   "execution_count": 71,
   "metadata": {},
   "outputs": [],
   "source": [
    "#load excel contingency table\n",
    "book1 = pd.read_excel('Book1.xlsx', index_col=0)"
   ]
  },
  {
   "cell_type": "code",
   "execution_count": 69,
   "metadata": {},
   "outputs": [],
   "source": [
    "from scipy.stats import chi2_contingency"
   ]
  },
  {
   "cell_type": "code",
   "execution_count": 72,
   "metadata": {},
   "outputs": [
    {
     "data": {
      "text/html": [
       "<div>\n",
       "<style scoped>\n",
       "    .dataframe tbody tr th:only-of-type {\n",
       "        vertical-align: middle;\n",
       "    }\n",
       "\n",
       "    .dataframe tbody tr th {\n",
       "        vertical-align: top;\n",
       "    }\n",
       "\n",
       "    .dataframe thead th {\n",
       "        text-align: right;\n",
       "    }\n",
       "</style>\n",
       "<table border=\"1\" class=\"dataframe\">\n",
       "  <thead>\n",
       "    <tr style=\"text-align: right;\">\n",
       "      <th></th>\n",
       "      <th>Full_time</th>\n",
       "      <th>part_time</th>\n",
       "      <th>permanent</th>\n",
       "      <th>temporary</th>\n",
       "      <th>contract</th>\n",
       "      <th>all</th>\n",
       "    </tr>\n",
       "  </thead>\n",
       "  <tbody>\n",
       "    <tr>\n",
       "      <th>Female</th>\n",
       "      <td>262</td>\n",
       "      <td>262</td>\n",
       "      <td>297</td>\n",
       "      <td>96</td>\n",
       "      <td>125</td>\n",
       "      <td>339</td>\n",
       "    </tr>\n",
       "    <tr>\n",
       "      <th>Male</th>\n",
       "      <td>261</td>\n",
       "      <td>261</td>\n",
       "      <td>303</td>\n",
       "      <td>67</td>\n",
       "      <td>121</td>\n",
       "      <td>341</td>\n",
       "    </tr>\n",
       "  </tbody>\n",
       "</table>\n",
       "</div>"
      ],
      "text/plain": [
       "        Full_time  part_time  permanent  temporary  contract  all\n",
       "Female        262        262        297         96       125  339\n",
       "Male          261        261        303         67       121  341"
      ]
     },
     "execution_count": 72,
     "metadata": {},
     "output_type": "execute_result"
    }
   ],
   "source": [
    "#Gender vs contract\n",
    "book1"
   ]
  },
  {
   "cell_type": "code",
   "execution_count": 81,
   "metadata": {},
   "outputs": [],
   "source": [
    "book1['none'] = book1['all']-book1['Full_time']\n",
    "contingency= book1[['Full_time','none']]"
   ]
  },
  {
   "cell_type": "code",
   "execution_count": 84,
   "metadata": {},
   "outputs": [
    {
     "data": {
      "text/plain": [
       "(0.01959552357664225,\n",
       " 0.8886726226867782,\n",
       " 1,\n",
       " array([[260.73088235,  78.26911765],\n",
       "        [262.26911765,  78.73088235]]))"
      ]
     },
     "execution_count": 84,
     "metadata": {},
     "output_type": "execute_result"
    }
   ],
   "source": [
    "chi2_contingency(contingency)\n"
   ]
  },
  {
   "cell_type": "code",
   "execution_count": 79,
   "metadata": {},
   "outputs": [],
   "source": [
    "contingency= book1['Full_time']"
   ]
  },
  {
   "cell_type": "code",
   "execution_count": null,
   "metadata": {},
   "outputs": [],
   "source": []
  },
  {
   "cell_type": "code",
   "execution_count": 86,
   "metadata": {},
   "outputs": [
    {
     "name": "stdout",
     "output_type": "stream",
     "text": [
      "Full_time\n",
      "test stat:  0.01959552357664225\n",
      "p value:  0.8886726226867782\n",
      "part_time\n",
      "test stat:  0.01959552357664225\n",
      "p value:  0.8886726226867782\n",
      "permanent\n",
      "test stat:  0.1482855964728646\n",
      "p value:  0.7001791168032536\n",
      "temporary\n",
      "test stat:  6.544802593028705\n",
      "p value:  0.010519099923100326\n",
      "contract\n",
      "test stat:  0.08830746345382025\n",
      "p value:  0.7663399939943001\n"
     ]
    }
   ],
   "source": [
    "#calculate Chi test \n",
    "for i in book1.columns[:5]:\n",
    "    book1['none'] = book1['all']-book1[i]\n",
    "    contingency= book1[[i,'none']]\n",
    "    chi, p,dof, exp = chi2_contingency(contingency)\n",
    "    print (i)\n",
    "    print('test stat: ', chi)\n",
    "    print('p value: ', p)\n"
   ]
  },
  {
   "cell_type": "code",
   "execution_count": null,
   "metadata": {},
   "outputs": [],
   "source": []
  },
  {
   "cell_type": "code",
   "execution_count": 94,
   "metadata": {},
   "outputs": [],
   "source": [
    "#Load excel contengency table  - search terms vs contract\n",
    "book2 = pd.read_excel('Book2.xlsx', index_col=0)"
   ]
  },
  {
   "cell_type": "code",
   "execution_count": 95,
   "metadata": {},
   "outputs": [
    {
     "data": {
      "text/html": [
       "<div>\n",
       "<style scoped>\n",
       "    .dataframe tbody tr th:only-of-type {\n",
       "        vertical-align: middle;\n",
       "    }\n",
       "\n",
       "    .dataframe tbody tr th {\n",
       "        vertical-align: top;\n",
       "    }\n",
       "\n",
       "    .dataframe thead th {\n",
       "        text-align: right;\n",
       "    }\n",
       "</style>\n",
       "<table border=\"1\" class=\"dataframe\">\n",
       "  <thead>\n",
       "    <tr style=\"text-align: right;\">\n",
       "      <th></th>\n",
       "      <th>Full_time</th>\n",
       "      <th>part_time</th>\n",
       "      <th>permanent</th>\n",
       "      <th>temporary</th>\n",
       "      <th>contract</th>\n",
       "      <th>all</th>\n",
       "    </tr>\n",
       "    <tr>\n",
       "      <th>term</th>\n",
       "      <th></th>\n",
       "      <th></th>\n",
       "      <th></th>\n",
       "      <th></th>\n",
       "      <th></th>\n",
       "      <th></th>\n",
       "    </tr>\n",
       "  </thead>\n",
       "  <tbody>\n",
       "    <tr>\n",
       "      <th>construction</th>\n",
       "      <td>83</td>\n",
       "      <td>83</td>\n",
       "      <td>86</td>\n",
       "      <td>31</td>\n",
       "      <td>40</td>\n",
       "      <td>100</td>\n",
       "    </tr>\n",
       "    <tr>\n",
       "      <th>environmental</th>\n",
       "      <td>14</td>\n",
       "      <td>14</td>\n",
       "      <td>18</td>\n",
       "      <td>4</td>\n",
       "      <td>8</td>\n",
       "      <td>20</td>\n",
       "    </tr>\n",
       "    <tr>\n",
       "      <th>aerospace</th>\n",
       "      <td>75</td>\n",
       "      <td>75</td>\n",
       "      <td>92</td>\n",
       "      <td>21</td>\n",
       "      <td>30</td>\n",
       "      <td>100</td>\n",
       "    </tr>\n",
       "    <tr>\n",
       "      <th>automtive</th>\n",
       "      <td>40</td>\n",
       "      <td>40</td>\n",
       "      <td>41</td>\n",
       "      <td>16</td>\n",
       "      <td>20</td>\n",
       "      <td>50</td>\n",
       "    </tr>\n",
       "    <tr>\n",
       "      <th>digital</th>\n",
       "      <td>19</td>\n",
       "      <td>19</td>\n",
       "      <td>17</td>\n",
       "      <td>4</td>\n",
       "      <td>8</td>\n",
       "      <td>20</td>\n",
       "    </tr>\n",
       "    <tr>\n",
       "      <th>heat pump</th>\n",
       "      <td>37</td>\n",
       "      <td>37</td>\n",
       "      <td>43</td>\n",
       "      <td>6</td>\n",
       "      <td>13</td>\n",
       "      <td>49</td>\n",
       "    </tr>\n",
       "    <tr>\n",
       "      <th>logistics</th>\n",
       "      <td>22</td>\n",
       "      <td>22</td>\n",
       "      <td>45</td>\n",
       "      <td>9</td>\n",
       "      <td>12</td>\n",
       "      <td>49</td>\n",
       "    </tr>\n",
       "    <tr>\n",
       "      <th>mechancial</th>\n",
       "      <td>76</td>\n",
       "      <td>76</td>\n",
       "      <td>86</td>\n",
       "      <td>20</td>\n",
       "      <td>32</td>\n",
       "      <td>100</td>\n",
       "    </tr>\n",
       "    <tr>\n",
       "      <th>net zero and/or green</th>\n",
       "      <td>13</td>\n",
       "      <td>13</td>\n",
       "      <td>18</td>\n",
       "      <td>2</td>\n",
       "      <td>5</td>\n",
       "      <td>20</td>\n",
       "    </tr>\n",
       "    <tr>\n",
       "      <th>nuclear</th>\n",
       "      <td>14</td>\n",
       "      <td>14</td>\n",
       "      <td>14</td>\n",
       "      <td>8</td>\n",
       "      <td>8</td>\n",
       "      <td>20</td>\n",
       "    </tr>\n",
       "    <tr>\n",
       "      <th>rail</th>\n",
       "      <td>67</td>\n",
       "      <td>67</td>\n",
       "      <td>79</td>\n",
       "      <td>33</td>\n",
       "      <td>53</td>\n",
       "      <td>100</td>\n",
       "    </tr>\n",
       "    <tr>\n",
       "      <th>renewable</th>\n",
       "      <td>18</td>\n",
       "      <td>18</td>\n",
       "      <td>19</td>\n",
       "      <td>3</td>\n",
       "      <td>4</td>\n",
       "      <td>20</td>\n",
       "    </tr>\n",
       "    <tr>\n",
       "      <th>Robotics</th>\n",
       "      <td>45</td>\n",
       "      <td>45</td>\n",
       "      <td>42</td>\n",
       "      <td>6</td>\n",
       "      <td>13</td>\n",
       "      <td>50</td>\n",
       "    </tr>\n",
       "  </tbody>\n",
       "</table>\n",
       "</div>"
      ],
      "text/plain": [
       "                       Full_time  part_time  permanent  temporary  contract  \\\n",
       "term                                                                          \n",
       "construction                  83         83         86         31        40   \n",
       "environmental                 14         14         18          4         8   \n",
       "aerospace                     75         75         92         21        30   \n",
       "automtive                     40         40         41         16        20   \n",
       "digital                       19         19         17          4         8   \n",
       "heat pump                     37         37         43          6        13   \n",
       "logistics                     22         22         45          9        12   \n",
       "mechancial                    76         76         86         20        32   \n",
       "net zero and/or green         13         13         18          2         5   \n",
       "nuclear                       14         14         14          8         8   \n",
       "rail                          67         67         79         33        53   \n",
       "renewable                     18         18         19          3         4   \n",
       "Robotics                      45         45         42          6        13   \n",
       "\n",
       "                       all  \n",
       "term                        \n",
       "construction           100  \n",
       "environmental           20  \n",
       "aerospace              100  \n",
       "automtive               50  \n",
       "digital                 20  \n",
       "heat pump               49  \n",
       "logistics               49  \n",
       "mechancial             100  \n",
       "net zero and/or green   20  \n",
       "nuclear                 20  \n",
       "rail                   100  \n",
       "renewable               20  \n",
       "Robotics                50  "
      ]
     },
     "execution_count": 95,
     "metadata": {},
     "output_type": "execute_result"
    }
   ],
   "source": [
    "book2"
   ]
  },
  {
   "cell_type": "code",
   "execution_count": 96,
   "metadata": {},
   "outputs": [
    {
     "name": "stdout",
     "output_type": "stream",
     "text": [
      "Full_time\n",
      "test stat:  45.411875564276514\n",
      "p value:  8.757989110005807e-06\n",
      "part_time\n",
      "test stat:  45.411875564276514\n",
      "p value:  8.757989110005807e-06\n",
      "permanent\n",
      "test stat:  15.510256740247119\n",
      "p value:  0.21471030650893916\n",
      "temporary\n",
      "test stat:  25.271058273432647\n",
      "p value:  0.013589369938307247\n",
      "contract\n",
      "test stat:  26.502889387138406\n",
      "p value:  0.009105142895909581\n"
     ]
    }
   ],
   "source": [
    "#Calculate Chi test score\n",
    "for i in book2.columns[:5]:\n",
    "    book2['none'] = book2['all']-book2[i]\n",
    "    contingency= book2[[i,'none']]\n",
    "    chi, p,dof, exp = chi2_contingency(contingency)\n",
    "    print (i)\n",
    "    print('test stat: ', chi)\n",
    "    print('p value: ', p)\n"
   ]
  }
 ],
 "metadata": {
  "kernelspec": {
   "display_name": "Python 3",
   "language": "python",
   "name": "python3"
  },
  "language_info": {
   "codemirror_mode": {
    "name": "ipython",
    "version": 3
   },
   "file_extension": ".py",
   "mimetype": "text/x-python",
   "name": "python",
   "nbconvert_exporter": "python",
   "pygments_lexer": "ipython3",
   "version": "3.8.3"
  }
 },
 "nbformat": 4,
 "nbformat_minor": 4
}
